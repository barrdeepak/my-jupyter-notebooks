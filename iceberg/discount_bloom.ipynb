{
 "cells": [
  {
   "cell_type": "code",
   "execution_count": null,
   "id": "18787a7d-1b13-4750-92fe-6f1b54dc4831",
   "metadata": {},
   "outputs": [],
   "source": [
    "%run discount_common.ipynb"
   ]
  },
  {
   "cell_type": "code",
   "execution_count": null,
   "id": "f77daec2-c33e-40ca-9b78-ce46bf839176",
   "metadata": {},
   "outputs": [],
   "source": [
    "output_table = \"my_catalog.db.test_table\"\n",
    "output_table_bloom = \"my_catalog.db.test_table_bloom\"\n",
    "\n",
    "# Initialize Spark session\n",
    "spark = Utility.get_spark_session()"
   ]
  },
  {
   "cell_type": "code",
   "execution_count": null,
   "id": "d17701bb-3d2b-4b35-819b-f35e2dad47d6",
   "metadata": {},
   "outputs": [],
   "source": [
    "import random\n",
    "from pyspark.sql.types import StructType, StructField, IntegerType, FloatType, StringType\n",
    "\n",
    "# Initialize lists to store data\n",
    "data = []\n",
    "for i in range(1, 1000001):  # product_id from 1 to 100\n",
    "    price = round(random.uniform(10.0, 100.0), 2)  # random price between 10 and 100\n",
    "    email = f\"user_{round(random.uniform(10.0, 100.0))}@email{i}.com\"\n",
    "    data.append((i, price, email))\n",
    "\n",
    "random.shuffle(data)\n",
    "\n",
    "# Define schema\n",
    "schema = StructType([\n",
    "    StructField(\"product_id\", IntegerType(), False),\n",
    "    StructField(\"price\", FloatType(), False),\n",
    "    StructField(\"email\", StringType(), False)\n",
    "    \n",
    "])\n",
    "\n",
    "# Create DataFrame\n",
    "df = spark.createDataFrame(data, schema)\n",
    "df.count()\n",
    "df = df. repartition(20)\n",
    "IcebergUtility.delete_table(output_table, spark)\n",
    "IcebergUtility.write_as_table_with_bloom(df, output_table_bloom, \"email\", \"1000\")\n",
    "IcebergUtility.write_as_table(df, output_table)\n",
    "IcebergUtility.list_tables(\"my_catalog\",\"db\", spark)\n",
    "IcebergUtility.describe_table(output_table, spark)\n",
    "IcebergUtility.describe_table(output_table_bloom, spark)\n",
    "df.count()"
   ]
  },
  {
   "cell_type": "code",
   "execution_count": null,
   "id": "5da36e43-19da-4bf4-afec-91d898bc61f7",
   "metadata": {},
   "outputs": [],
   "source": [
    "import time\n",
    "import random\n",
    "from pyspark.sql import SparkSession\n",
    "\n",
    "def run_performance_test(iterations:int, table:str):\n",
    "    query_times = []\n",
    "    for i in range(1, iterations):  # product_id from 1 to 100\n",
    "        # random_number1 = random.randint(1000, 1_000_000)\n",
    "        random_number2 = random.randint(10, 100)\n",
    "        random_number3 = random.randint(1, 1_000_000)\n",
    "        spark = Utility.get_spark_session()\n",
    "        spark.catalog.clearCache()\n",
    "        \n",
    "        sql_query = f\"\"\"\n",
    "            SELECT count(1)\n",
    "            FROM {table} where email in ('user_{random_number2}@email{random_number3}.com')\n",
    "            \"\"\"\n",
    "        start_time = time.time()\n",
    "        df = spark.sql(sql_query)\n",
    "        # Trigger the execution (action)\n",
    "        df.count()\n",
    "        end_time = time.time()\n",
    "        spark.stop()\n",
    "        query_times.append((end_time - start_time) * 1000)\n",
    "    \n",
    "    average_ms = sum(query_times) / len(query_times)\n",
    "    print(f\"Average query execution time for {iterations} iterations on {table} : {average_ms:.2f} ms\")\n",
    "\n",
    "\n",
    "run_performance_test(100,  output_table_bloom)\n",
    "run_performance_test(100, output_table)\n",
    "run_performance_test(100,  output_table_bloom)\n",
    "run_performance_test(100, output_table)\n",
    "# run_performance_test(1000,  output_table_bloom)\n",
    "# run_performance_test(1000,  output_table)\n",
    "# run_performance_test(10000,  output_table_bloom)\n",
    "# run_performance_test(10000,  output_table)\n",
    "# Bloom filter gives faster results is not proven yet by this notebook."
   ]
  },
  {
   "cell_type": "code",
   "execution_count": null,
   "id": "67ca657a-a201-49d9-b196-599d16a4b4f8",
   "metadata": {},
   "outputs": [],
   "source": [
    "spark.stop"
   ]
  },
  {
   "cell_type": "code",
   "execution_count": null,
   "id": "de4f753c-726a-4f9c-9ca7-983678d64029",
   "metadata": {},
   "outputs": [],
   "source": [
    "%%bash\n",
    "rm -rf warehouse\n",
    "rm -rf spark-warehouse"
   ]
  }
 ],
 "metadata": {
  "kernelspec": {
   "display_name": "Python 3 (ipykernel)",
   "language": "python",
   "name": "python3"
  },
  "language_info": {
   "codemirror_mode": {
    "name": "ipython",
    "version": 3
   },
   "file_extension": ".py",
   "mimetype": "text/x-python",
   "name": "python",
   "nbconvert_exporter": "python",
   "pygments_lexer": "ipython3",
   "version": "3.11.10"
  }
 },
 "nbformat": 4,
 "nbformat_minor": 5
}
