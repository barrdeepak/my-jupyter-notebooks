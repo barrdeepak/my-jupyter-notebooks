{
 "cells": [
  {
   "cell_type": "code",
   "execution_count": null,
   "id": "ac234e8f-96d1-46c1-bfde-24b30bddc9dc",
   "metadata": {},
   "outputs": [],
   "source": [
    "%run discount_common.ipynb"
   ]
  },
  {
   "cell_type": "code",
   "execution_count": null,
   "id": "f77daec2-c33e-40ca-9b78-ce46bf839176",
   "metadata": {},
   "outputs": [],
   "source": [
    "input_file = \"input/fruits.json\"\n",
    "output_table = \"my_catalog.db.fruits_price\"\n",
    "partition_column = \"date\"\n",
    "\n",
    "\n",
    "# Initialize Spark session\n",
    "spark = Utility.get_spark_session()\n",
    "\n",
    "# Delete the table if it exists\n",
    "IcebergUtility.delete_table(output_table, spark)"
   ]
  },
  {
   "cell_type": "code",
   "execution_count": null,
   "id": "37f799b3-5a8f-45cc-a946-46cbcbc56466",
   "metadata": {},
   "outputs": [],
   "source": [
    "# Read and transform the data - Apply 5% Discount\n",
    "df = Utility.read_file(input_file, spark)\n",
    "df = Utility.drop_column(df, \"discount\")\n",
    "df = Utility.add_column(df, \"discount\", 5.0)\n",
    "df = Utility.add_column(df, \"date\", \"2025-06-14\")\n",
    "df = Utility.apply_discount(df)\n",
    "\n",
    "# Write the DataFrame as an Iceberg table\n",
    "IcebergUtility.write_as_partitioned_table(df, output_table, partition_column)\n",
    "\n",
    "\n",
    "# Display the table contents\n",
    "IcebergUtility.show_table_contents(output_table, spark)\n",
    "count = IcebergUtility.count_rows(output_table,spark)\n",
    "print(f\"Number of rows : {count}\")\n"
   ]
  },
  {
   "cell_type": "code",
   "execution_count": null,
   "id": "e4ad44ba-c414-4bbf-b85d-9e3d284ed79b",
   "metadata": {},
   "outputs": [],
   "source": [
    "IcebergUtility.list_tables(\"my_catalog\",\"db\", spark)"
   ]
  },
  {
   "cell_type": "code",
   "execution_count": null,
   "id": "c43aa447-ef4a-4d2b-a952-a9a722f90497",
   "metadata": {},
   "outputs": [],
   "source": [
    "# Read and transform the data - Apply 10% Discount\n",
    "df = Utility.read_file(input_file, spark)\n",
    "df = Utility.drop_column(df, \"discount\")\n",
    "df = Utility.add_column(df, \"discount\", 10.0)\n",
    "df = Utility.add_column(df, \"date\", \"2025-06-15\")\n",
    "df = Utility.apply_discount(df)\n",
    "\n",
    "# Write the DataFrame as an Iceberg table\n",
    "IcebergUtility.append_to_table(df, output_table)\n",
    "\n",
    "# Display the table contents\n",
    "IcebergUtility.show_table_contents(output_table, spark)\n",
    "count = IcebergUtility.count_rows(output_table,spark)\n",
    "print(f\"Number of rows : {count}\")\n"
   ]
  },
  {
   "cell_type": "code",
   "execution_count": null,
   "id": "c2b4194f-7103-49dc-8a94-f86541b82c5d",
   "metadata": {},
   "outputs": [],
   "source": [
    "# Read and transform the data - Apply 15% Discount\n",
    "df = Utility.read_file(input_file, spark)\n",
    "df = Utility.drop_column(df, \"discount\")\n",
    "df = Utility.add_column(df, \"discount\", 15.0)\n",
    "df = Utility.add_column(df, \"date\", \"2025-06-16\")\n",
    "df = Utility.apply_discount(df)\n",
    "\n",
    "# Write the DataFrame as an Iceberg table\n",
    "IcebergUtility.append_to_table(df, output_table)\n",
    "\n",
    "# Display the table contents\n",
    "IcebergUtility.show_table_contents(output_table, spark)\n",
    "count = IcebergUtility.count_rows(output_table,spark)\n",
    "print(f\"Number of rows : {count}\")\n"
   ]
  },
  {
   "cell_type": "code",
   "execution_count": null,
   "id": "08784a2b-eed5-4ec0-9dbb-98a6622e6910",
   "metadata": {},
   "outputs": [],
   "source": [
    "snapshots = IcebergUtility.list_snapshot_ids(output_table, spark)"
   ]
  },
  {
   "cell_type": "code",
   "execution_count": null,
   "id": "bae2f79e-6ae3-4037-9861-527f947fa186",
   "metadata": {},
   "outputs": [],
   "source": [
    "for id in snapshots:\n",
    "    print(f\"Snapshot Id : {id}\")\n",
    "    IcebergUtility.show_table_contents(output_table, spark, id)\n",
    "    "
   ]
  },
  {
   "cell_type": "code",
   "execution_count": null,
   "id": "f3ed3908-86a0-45cd-89b8-89467940f5a3",
   "metadata": {},
   "outputs": [],
   "source": [
    "spark.stop"
   ]
  },
  {
   "cell_type": "code",
   "execution_count": null,
   "id": "d5072704-ce7d-481c-97b6-3010a554ce96",
   "metadata": {},
   "outputs": [],
   "source": [
    "%%bash\n",
    "ls warehouse/db/fruits_price/data/*/*"
   ]
  },
  {
   "cell_type": "code",
   "execution_count": null,
   "id": "6f9d3f59-850e-45a6-8886-dddd407647dc",
   "metadata": {},
   "outputs": [],
   "source": [
    "%%bash\n",
    "ls warehouse/db/fruits_price/data/date=2025-06-15"
   ]
  },
  {
   "cell_type": "code",
   "execution_count": null,
   "id": "881bbf9e-bd51-473f-98ed-737e04239afd",
   "metadata": {},
   "outputs": [],
   "source": [
    "%%bash\n",
    "rm -rf warehouse\n",
    "rm -rf spark-warehouse"
   ]
  }
 ],
 "metadata": {
  "kernelspec": {
   "display_name": "Python 3 (ipykernel)",
   "language": "python",
   "name": "python3"
  },
  "language_info": {
   "codemirror_mode": {
    "name": "ipython",
    "version": 3
   },
   "file_extension": ".py",
   "mimetype": "text/x-python",
   "name": "python",
   "nbconvert_exporter": "python",
   "pygments_lexer": "ipython3",
   "version": "3.11.10"
  }
 },
 "nbformat": 4,
 "nbformat_minor": 5
}
